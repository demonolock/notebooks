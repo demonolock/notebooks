{
 "cells": [
  {
   "cell_type": "markdown",
   "metadata": {},
   "source": [
    "### Задание 1"
   ]
  },
  {
   "cell_type": "markdown",
   "metadata": {},
   "source": [
    "Выберите один верный ответ. “Коэффициент корреляции между количеством сна и уровнем счастья равен нулю” - это..."
   ]
  },
  {
   "cell_type": "markdown",
   "metadata": {},
   "source": [
    "* V 1) Нулевая гипотеза\n",
    "* 2) Альтернативная гипотеза\n"
   ]
  },
  {
   "cell_type": "markdown",
   "metadata": {},
   "source": [
    "### Задание 2"
   ]
  },
  {
   "cell_type": "markdown",
   "metadata": {},
   "source": [
    "Выберите один верный ответ. Если уровень значимости 0.10, а p-значение равно 0.7, то необходимо..."
   ]
  },
  {
   "cell_type": "markdown",
   "metadata": {},
   "source": [
    "* 1)отвергнуть нулевую гипотезу\n",
    "* V 2)не отвергать нулевую гипотезу\n"
   ]
  },
  {
   "cell_type": "markdown",
   "metadata": {},
   "source": [
    "### Задание 3"
   ]
  },
  {
   "cell_type": "markdown",
   "metadata": {},
   "source": [
    "Выберите все подходящие ответы. Что из перечисленного является \n",
    "статистической гипотезой?"
   ]
  },
  {
   "cell_type": "markdown",
   "metadata": {},
   "source": [
    "* V 1)  Случайная величина X имеет \n",
    "     нормальное распределение\n",
    "* V 2)  Среднее арифметическое \n",
    "     признака A равно 52.5\n",
    "* V 3)  Средний вес упаковки яблок составляет 1300 г.\n",
    "* 4)  Дисперсия случайной величины X \n",
    "     не больше 5"
   ]
  },
  {
   "cell_type": "markdown",
   "metadata": {},
   "source": [
    "### Задание 4"
   ]
  },
  {
   "cell_type": "markdown",
   "metadata": {},
   "source": [
    "Парфюмерная компания хочет узнать возраст женщин, которые являются их покупательницами. Ранее уже было изучено, что средний возраст  был 37, а среднеквадратичное отклонение равно 3.4. Размер выборки - 200 человек. Рассчитайте 95% доверительный интервал для среднего возраста. Представьте все необходимые вычисления."
   ]
  },
  {
   "cell_type": "code",
   "execution_count": 1,
   "metadata": {},
   "outputs": [],
   "source": [
    "from scipy.stats import norm\n",
    "import math\n",
    "\n",
    "def confidence_interval_norm(alpha, sigma, n, mean):\n",
    "    value = -norm.ppf(alpha / 2) * sigma / math.sqrt(n)\n",
    "    return mean - value, mean + value"
   ]
  },
  {
   "cell_type": "code",
   "execution_count": 2,
   "metadata": {},
   "outputs": [
    {
     "data": {
      "text/plain": [
       "(36.46113023685977, 37.53886976314023)"
      ]
     },
     "execution_count": 2,
     "metadata": {},
     "output_type": "execute_result"
    }
   ],
   "source": [
    "n = 200\n",
    "mean = 37\n",
    "sigma = 3.4\n",
    "alpha = (1 - 0.95)/2 # Ограничение с 2х сторон, поэтому делим пополам\n",
    "confidence_interval_norm(alpha, sigma, n, mean)"
   ]
  },
  {
   "cell_type": "markdown",
   "metadata": {},
   "source": [
    "### Задание 5"
   ]
  },
  {
   "cell_type": "markdown",
   "metadata": {},
   "source": [
    "Перед Вами данные результатов экзаменов для детей средней школы."
   ]
  },
  {
   "cell_type": "code",
   "execution_count": 3,
   "metadata": {},
   "outputs": [],
   "source": [
    "import pandas as pd\n",
    "df=pd.read_csv('https://downloader.disk.yandex.ru/disk/f4922a21f246ea369bbdd3ccba31a2b854355869d2a33e475b136269cca01324/5f7baaa8/NEiG_7SRvvlfSXxW98JfJbXKaJq7VIzDzkZHxhdDRk6EMNdUX87DVkVHAbfTn2U-VNR0mnI2AOPMEA42F2mnoA%3D%3D?uid=0&filename=examscore.csv&disposition=attachment&hash=F5iM3qEKomD0PQ8CvzSLg5VlPUKw%2B0yTjEfj73fSMqJ8SNYOVLgjH5CiX3iliVmnsLK2WbwBkR//qfmVHoPilw%3D%3D&limit=0&content_type=application%2Fvnd.ms-excel&owner_uid=1130000041608349&fsize=56628&hid=4172a4b59290db62a4ddd9bd2bc4e507&media_type=spreadsheet&tknv=v2')"
   ]
  },
  {
   "cell_type": "code",
   "execution_count": 4,
   "metadata": {},
   "outputs": [
    {
     "data": {
      "text/html": [
       "<div>\n",
       "<style scoped>\n",
       "    .dataframe tbody tr th:only-of-type {\n",
       "        vertical-align: middle;\n",
       "    }\n",
       "\n",
       "    .dataframe tbody tr th {\n",
       "        vertical-align: top;\n",
       "    }\n",
       "\n",
       "    .dataframe thead th {\n",
       "        text-align: right;\n",
       "    }\n",
       "</style>\n",
       "<table border=\"1\" class=\"dataframe\">\n",
       "  <thead>\n",
       "    <tr style=\"text-align: right;\">\n",
       "      <th></th>\n",
       "      <th>gender</th>\n",
       "      <th>race</th>\n",
       "      <th>parenteducation</th>\n",
       "      <th>lunch</th>\n",
       "      <th>testprepcourse</th>\n",
       "      <th>mathscore</th>\n",
       "      <th>readingscore</th>\n",
       "      <th>writingscore</th>\n",
       "    </tr>\n",
       "  </thead>\n",
       "  <tbody>\n",
       "    <tr>\n",
       "      <th>0</th>\n",
       "      <td>female</td>\n",
       "      <td>group A</td>\n",
       "      <td>some high school</td>\n",
       "      <td>standard</td>\n",
       "      <td>completed</td>\n",
       "      <td>78</td>\n",
       "      <td>83</td>\n",
       "      <td>85</td>\n",
       "    </tr>\n",
       "    <tr>\n",
       "      <th>1</th>\n",
       "      <td>female</td>\n",
       "      <td>group C</td>\n",
       "      <td>some high school</td>\n",
       "      <td>standard</td>\n",
       "      <td>none</td>\n",
       "      <td>69</td>\n",
       "      <td>71</td>\n",
       "      <td>78</td>\n",
       "    </tr>\n",
       "    <tr>\n",
       "      <th>2</th>\n",
       "      <td>female</td>\n",
       "      <td>group B</td>\n",
       "      <td>bachelor's degree</td>\n",
       "      <td>free/reduced</td>\n",
       "      <td>completed</td>\n",
       "      <td>58</td>\n",
       "      <td>65</td>\n",
       "      <td>71</td>\n",
       "    </tr>\n",
       "    <tr>\n",
       "      <th>3</th>\n",
       "      <td>female</td>\n",
       "      <td>group C</td>\n",
       "      <td>some college</td>\n",
       "      <td>standard</td>\n",
       "      <td>none</td>\n",
       "      <td>69</td>\n",
       "      <td>72</td>\n",
       "      <td>70</td>\n",
       "    </tr>\n",
       "    <tr>\n",
       "      <th>4</th>\n",
       "      <td>female</td>\n",
       "      <td>group C</td>\n",
       "      <td>high school</td>\n",
       "      <td>standard</td>\n",
       "      <td>none</td>\n",
       "      <td>67</td>\n",
       "      <td>72</td>\n",
       "      <td>67</td>\n",
       "    </tr>\n",
       "    <tr>\n",
       "      <th>...</th>\n",
       "      <td>...</td>\n",
       "      <td>...</td>\n",
       "      <td>...</td>\n",
       "      <td>...</td>\n",
       "      <td>...</td>\n",
       "      <td>...</td>\n",
       "      <td>...</td>\n",
       "      <td>...</td>\n",
       "    </tr>\n",
       "    <tr>\n",
       "      <th>995</th>\n",
       "      <td>male</td>\n",
       "      <td>group A</td>\n",
       "      <td>some college</td>\n",
       "      <td>standard</td>\n",
       "      <td>none</td>\n",
       "      <td>68</td>\n",
       "      <td>60</td>\n",
       "      <td>55</td>\n",
       "    </tr>\n",
       "    <tr>\n",
       "      <th>996</th>\n",
       "      <td>male</td>\n",
       "      <td>group C</td>\n",
       "      <td>associate's degree</td>\n",
       "      <td>free/reduced</td>\n",
       "      <td>none</td>\n",
       "      <td>76</td>\n",
       "      <td>70</td>\n",
       "      <td>66</td>\n",
       "    </tr>\n",
       "    <tr>\n",
       "      <th>997</th>\n",
       "      <td>male</td>\n",
       "      <td>group B</td>\n",
       "      <td>some high school</td>\n",
       "      <td>standard</td>\n",
       "      <td>completed</td>\n",
       "      <td>50</td>\n",
       "      <td>43</td>\n",
       "      <td>44</td>\n",
       "    </tr>\n",
       "    <tr>\n",
       "      <th>998</th>\n",
       "      <td>male</td>\n",
       "      <td>group D</td>\n",
       "      <td>some college</td>\n",
       "      <td>free/reduced</td>\n",
       "      <td>none</td>\n",
       "      <td>34</td>\n",
       "      <td>28</td>\n",
       "      <td>22</td>\n",
       "    </tr>\n",
       "    <tr>\n",
       "      <th>999</th>\n",
       "      <td>male</td>\n",
       "      <td>group E</td>\n",
       "      <td>associate's degree</td>\n",
       "      <td>free/reduced</td>\n",
       "      <td>none</td>\n",
       "      <td>97</td>\n",
       "      <td>79</td>\n",
       "      <td>73</td>\n",
       "    </tr>\n",
       "  </tbody>\n",
       "</table>\n",
       "<p>1000 rows × 8 columns</p>\n",
       "</div>"
      ],
      "text/plain": [
       "     gender     race     parenteducation         lunch testprepcourse  \\\n",
       "0    female  group A    some high school      standard      completed   \n",
       "1    female  group C    some high school      standard           none   \n",
       "2    female  group B   bachelor's degree  free/reduced      completed   \n",
       "3    female  group C        some college      standard           none   \n",
       "4    female  group C         high school      standard           none   \n",
       "..      ...      ...                 ...           ...            ...   \n",
       "995    male  group A        some college      standard           none   \n",
       "996    male  group C  associate's degree  free/reduced           none   \n",
       "997    male  group B    some high school      standard      completed   \n",
       "998    male  group D        some college  free/reduced           none   \n",
       "999    male  group E  associate's degree  free/reduced           none   \n",
       "\n",
       "     mathscore  readingscore  writingscore  \n",
       "0           78            83            85  \n",
       "1           69            71            78  \n",
       "2           58            65            71  \n",
       "3           69            72            70  \n",
       "4           67            72            67  \n",
       "..         ...           ...           ...  \n",
       "995         68            60            55  \n",
       "996         76            70            66  \n",
       "997         50            43            44  \n",
       "998         34            28            22  \n",
       "999         97            79            73  \n",
       "\n",
       "[1000 rows x 8 columns]"
      ]
     },
     "execution_count": 4,
     "metadata": {},
     "output_type": "execute_result"
    }
   ],
   "source": [
    "df"
   ]
  },
  {
   "cell_type": "markdown",
   "metadata": {},
   "source": [
    "Обработайте данные на предмет пропусков и проверьте гипотезу о том, что между средними оценками по математике для мальчиков и девочек нет статистических различий. Представьте все необходимые вычисления и содержательную интерпретацию."
   ]
  },
  {
   "cell_type": "markdown",
   "metadata": {},
   "source": [
    "## Обработка пропусков"
   ]
  },
  {
   "cell_type": "code",
   "execution_count": 5,
   "metadata": {},
   "outputs": [
    {
     "data": {
      "image/png": "[encoded data removed]",
      "text/plain": [
       "<Figure size 1440x432 with 1 Axes>"
      ]
     },
     "metadata": {
      "needs_background": "light"
     },
     "output_type": "display_data"
    }
   ],
   "source": [
    "# Взглянем на имеющиеся пропуски\n",
    "import seaborn as sns\n",
    "import numpy as np\n",
    "import matplotlib.pyplot as plt\n",
    "%matplotlib inline\n",
    "\n",
    "fig, ax = plt.subplots(figsize=(20,6))\n",
    "sns_heatmap = sns.heatmap(df.isnull(), yticklabels=False, cbar=False, cmap='Accent_r')"
   ]
  },
  {
   "cell_type": "code",
   "execution_count": 6,
   "metadata": {},
   "outputs": [
    {
     "data": {
      "text/plain": [
       "gender             0\n",
       "race               0\n",
       "parenteducation    0\n",
       "lunch              0\n",
       "testprepcourse     0\n",
       "mathscore          0\n",
       "readingscore       0\n",
       "writingscore       0\n",
       "dtype: int64"
      ]
     },
     "execution_count": 6,
     "metadata": {},
     "output_type": "execute_result"
    }
   ],
   "source": [
    "df.isnull().sum()"
   ]
  },
  {
   "cell_type": "markdown",
   "metadata": {},
   "source": [
    "Видим, что очевидные пропуски (.isnull()==True) отсутствуют. Изучим столбцы по отдельности на наличие отклоняющихся и пустых значений"
   ]
  },
  {
   "cell_type": "code",
   "execution_count": 7,
   "metadata": {},
   "outputs": [
    {
     "name": "stdout",
     "output_type": "stream",
     "text": [
      "Уникальные значения столбца 'gender': ['female' 'male']\n",
      "Уникальные значения столбца 'race': ['group A' 'group C' 'group B' 'group D' 'group E']\n",
      "Уникальные значения столбца 'parenteducation': ['some high school' \"bachelor's degree\" 'some college' 'high school'\n",
      " \"associate's degree\" \"master's degree\"]\n",
      "Уникальные значения столбца 'lunch': ['standard' 'free/reduced']\n",
      "Уникальные значения столбца 'testprepcourse': ['completed' 'none']\n",
      "Уникальные значения столбца 'mathscore': [ 78  69  58  67  60  87  76  66  61  51  83  57  63  86  56  85  92  52\n",
      "  32  64  73  37  74  49  59  68  44  62  31  72  53  40  84  50  55  71\n",
      "  45  39  38  80  47  43  48  81  94  89  88  41  46  77  99  95  82  79\n",
      "  70 100  35  96  75  54  65  20  42  36  30  18  17  90  33  23  19  91\n",
      "  29  93 -77  97  24  28  98  34]\n",
      "Уникальные значения столбца 'readingscore': [ 83  71  65  72  81  94  92  70  75  73 100  60  91  96  68  58  49  69\n",
      "  57  52  63  55  67  86  62  74  51  48  78  47  82  50  84  77  85  90\n",
      "  93  88  44  66  76  59  53  80  87  99  54  79  56  64  89  43  46  42\n",
      "  61  98  18  21  97  41  95  34  38  45  36  39  24 -99  26  29  33  35\n",
      "  28]\n",
      "Уникальные значения столбца 'writingscore': [ 85  78  71  70  67  75  96  93  73  74  61 100  64  95  68  91  66  59\n",
      "  49  79  53  62  54  88  55  76  42  77  84  52  90  87  80  92  57  72\n",
      "  89  63  45  65  69  83  94  44  41  56  50  60  58  86  81  32  51  98\n",
      "  34  82  48  97  19  46  47  35  30  40  37  33  36  43  38  21  25  20\n",
      "  39  31  18  27 -99  22]\n"
     ]
    }
   ],
   "source": [
    "# gender -  пол\n",
    "# race - этническая принадлежность\n",
    "# parenteducation - образование родителей\n",
    "# lunch - ели перед экзаменом\n",
    "# testprepcourse - курсы для подготовки к экзаменам\n",
    "# mathscore - оценка по математике \n",
    "# readingscore - оценка по чтению\n",
    "# writingscore - оценка по письму\n",
    "\n",
    "for column in (df.columns.values):\n",
    "    if (df[column].dtype) != np.dtype('int'):\n",
    "        print (\"Уникальные значения столбца '\"+ column + \"': \", end='')\n",
    "        print (df[column].unique())"
   ]
  },
  {
   "cell_type": "markdown",
   "metadata": {},
   "source": [
    "Видим, что пустых значений и правда нет, зато есть отклоняющиеся отрицательные значения оценок. Скорее всего минус попал случайно. Заменим их"
   ]
  },
  {
   "cell_type": "code",
   "execution_count": 8,
   "metadata": {},
   "outputs": [],
   "source": [
    "df.mathscore = df.mathscore.apply(lambda x: -x if x<0 else x)"
   ]
  },
  {
   "cell_type": "markdown",
   "metadata": {},
   "source": [
    "В значениях только девочки и мальчики и даже без заметного перекоса, что хорошо для выборки и проверки гипотезы"
   ]
  },
  {
   "cell_type": "code",
   "execution_count": 9,
   "metadata": {},
   "outputs": [
    {
     "name": "stdout",
     "output_type": "stream",
     "text": [
      "male      515\n",
      "female    485\n",
      "Name: gender, dtype: int64\n"
     ]
    },
    {
     "data": {
      "image/png": "[encoded data removed]",
      "text/plain": [
       "<Figure size 432x288 with 1 Axes>"
      ]
     },
     "metadata": {
      "needs_background": "light"
     },
     "output_type": "display_data"
    }
   ],
   "source": [
    "print(df.gender.value_counts())\n",
    "sns.countplot(x = 'gender', data = df);"
   ]
  },
  {
   "cell_type": "markdown",
   "metadata": {},
   "source": [
    "## Проверка гипотезы \n",
    "Между средними оценками по математике для мальчиков и девочек нет статистических различий"
   ]
  },
  {
   "cell_type": "code",
   "execution_count": 10,
   "metadata": {},
   "outputs": [
    {
     "name": "stdout",
     "output_type": "stream",
     "text": [
      "        mathscore\n",
      "gender           \n",
      "female  62.851546\n",
      "male    69.067961\n"
     ]
    },
    {
     "data": {
      "image/png": "[encoded data removed]",
      "text/plain": [
       "<Figure size 720x432 with 1 Axes>"
      ]
     },
     "metadata": {
      "needs_background": "light"
     },
     "output_type": "display_data"
    }
   ],
   "source": [
    "mathscore_gender = df[['gender','mathscore']].groupby('gender',as_index=True).mean()\n",
    "print(str(mathscore_gender.head()))\n",
    "fig, ax = plt.subplots(figsize=(10,6))\n",
    "sns.boxplot(x=\"gender\", y=\"mathscore\", data=df);"
   ]
  },
  {
   "cell_type": "markdown",
   "metadata": {},
   "source": [
    "Видим, что различие между средними оценками девочек и мальчиков есть. Поэтому гипотезу \"между средними оценками по математике для мальчиков и девочек нет статистических различий\" мы опровергаем."
   ]
  },
  {
   "cell_type": "markdown",
   "metadata": {},
   "source": [
    "### Задание 6"
   ]
  },
  {
   "cell_type": "markdown",
   "metadata": {},
   "source": [
    "Вам предложены данные A/B теста. Проанализируйте, есть ли статистически значимая разница для конверсии в контрольной и экспериментальной группе."
   ]
  },
  {
   "cell_type": "markdown",
   "metadata": {},
   "source": [
    "Данные содержат 5 признаков:\n",
    "    \n",
    "* user_id - ID пользователя\n",
    "* timestamp - Временная отметка\n",
    "* group - К какой группе относится пользователь (контрольная или экспериментальная)\n",
    "* landing_page - Какой дизайн показали пользователю {old_page, new_page}\n",
    "* converted - Конверсия (0=not converted, 1=converted)"
   ]
  },
  {
   "cell_type": "markdown",
   "metadata": {},
   "source": [
    "Не забудьте проверить и подготовить данные, сделать всю необходимую предобработку."
   ]
  },
  {
   "cell_type": "code",
   "execution_count": 11,
   "metadata": {},
   "outputs": [],
   "source": [
    "import random\n",
    "\n",
    "dfab = pd.read_csv('https://downloader.disk.yandex.ru/disk/07ff894a533b0dbbcd18523e9cdf12a964a16cefec26164d83724ae91063d0d8/5f7bab75/fgcOCwfu8pOIN6v2eFULZG7-HiYxiiq7EztzXfCsfwGZvqHlO_nLBpZ2MQ_CIugD4LT4X3txWURIuArD4PjwKg%3D%3D?uid=0&filename=ab_data.csv&disposition=attachment&hash=F5iM3qEKomD0PQ8CvzSLg6kDWqsmlrTtKYr1MlqEwKRhi2vkkDeh8eOL8q6U7fwBMrZMrpRHvcl9PkWNPWglZQ%3D%3D&limit=0&content_type=text%2Fplain&owner_uid=1130000041608349&fsize=15901933&hid=cd4ad67a26b87a37499de6bf645d2889&media_type=spreadsheet&tknv=v2')\n",
    "\n",
    "dfab.head()\n",
    "random.seed(100)"
   ]
  },
  {
   "cell_type": "code",
   "execution_count": 12,
   "metadata": {},
   "outputs": [
    {
     "data": {
      "text/plain": [
       "290584"
      ]
     },
     "execution_count": 12,
     "metadata": {},
     "output_type": "execute_result"
    }
   ],
   "source": [
    "# Проверим пользователей на повторение в выборке\n",
    "\n",
    "dfab.user_id.nunique()"
   ]
  },
  {
   "cell_type": "code",
   "execution_count": 13,
   "metadata": {},
   "outputs": [
    {
     "data": {
      "text/plain": [
       "294478"
      ]
     },
     "execution_count": 13,
     "metadata": {},
     "output_type": "execute_result"
    }
   ],
   "source": [
    "dfab.shape[0]"
   ]
  },
  {
   "cell_type": "markdown",
   "metadata": {},
   "source": [
    "Большое количество пользователей продублировано"
   ]
  },
  {
   "cell_type": "code",
   "execution_count": 14,
   "metadata": {},
   "outputs": [],
   "source": [
    "# Удалим дубликаты \n",
    "\n",
    "dfab.drop_duplicates(subset='user_id', keep='first', inplace=True)"
   ]
  },
  {
   "cell_type": "code",
   "execution_count": 15,
   "metadata": {},
   "outputs": [
    {
     "data": {
      "text/plain": [
       "0.1195695564793657"
      ]
     },
     "execution_count": 15,
     "metadata": {},
     "output_type": "execute_result"
    }
   ],
   "source": [
    "# Доля пользователей с конверсией\n",
    "\n",
    "dfab[dfab.converted == 1].converted.count() / dfab.converted.count()"
   ]
  },
  {
   "cell_type": "code",
   "execution_count": 16,
   "metadata": {},
   "outputs": [
    {
     "data": {
      "text/plain": [
       "0.12029717968491792"
      ]
     },
     "execution_count": 16,
     "metadata": {},
     "output_type": "execute_result"
    }
   ],
   "source": [
    "# Доля пользователей с конверсией из контрольной группы\n",
    "\n",
    "dfab[dfab.converted == 1].query('group == \"control\"').converted.count() / dfab.query('group == \"control\"').converted.count()"
   ]
  },
  {
   "cell_type": "code",
   "execution_count": 17,
   "metadata": {},
   "outputs": [
    {
     "data": {
      "text/plain": [
       "0.11884253398646046"
      ]
     },
     "execution_count": 17,
     "metadata": {},
     "output_type": "execute_result"
    }
   ],
   "source": [
    "# Доля пользователей с конверсией из экспериментальной группы\n",
    "\n",
    "dfab[dfab.converted == 1].query('group == \"treatment\"').converted.count() / dfab.query('group == \"treatment\"').converted.count()"
   ]
  },
  {
   "cell_type": "markdown",
   "metadata": {},
   "source": [
    "Доли пользователей из групп примерно равны"
   ]
  },
  {
   "cell_type": "code",
   "execution_count": 18,
   "metadata": {},
   "outputs": [
    {
     "data": {
      "text/plain": [
       "(17489, 17256, 145264, 145320)"
      ]
     },
     "execution_count": 18,
     "metadata": {},
     "output_type": "execute_result"
    }
   ],
   "source": [
    "# Количество конверсий для каждой страницы и количество людей, получивших каждую страницу\n",
    "\n",
    "import statsmodels.api as sm\n",
    "\n",
    "convert_old = (dfab.query('landing_page==\"old_page\"')['converted']==1).sum()\n",
    "convert_new = (dfab.query('landing_page==\"new_page\"')['converted']==1).sum()\n",
    "n_old = (dfab['landing_page']=='old_page').sum()\n",
    "n_new=(dfab['landing_page']=='new_page').sum()\n",
    "\n",
    "convert_old, convert_new, n_old, n_new  "
   ]
  },
  {
   "cell_type": "markdown",
   "metadata": {},
   "source": [
    "## Гипотезы"
   ]
  },
  {
   "cell_type": "markdown",
   "metadata": {},
   "source": [
    "* H0: p_old = p_new  \n",
    "Пользователи, получившие старую целевую страницу, будут иметь те же показатели конверсии, что и пользователи, получившие новую целевую страницу\n",
    "\n",
    "* H1: p_old < p_new\n",
    "Пользователи, получившие новую целевую страницу, будут иметь более высокий показатель конверсии по сравнению с пользователи, получившими старую целевую страницу\n",
    "\n",
    "Установим уровень доверия alpha = 0.05"
   ]
  },
  {
   "cell_type": "code",
   "execution_count": 19,
   "metadata": {},
   "outputs": [
    {
     "data": {
      "text/plain": [
       "(-1.3704617576931086, 0.9147285973840954)"
      ]
     },
     "execution_count": 19,
     "metadata": {},
     "output_type": "execute_result"
    }
   ],
   "source": [
    "z_score, p_value = sm.stats.proportions_ztest([convert_new, convert_old], [n_new, n_old], alternative='larger')\n",
    "z_score, p_value"
   ]
  },
  {
   "cell_type": "markdown",
   "metadata": {},
   "source": [
    "z_score составляет 1.37, что меньше критического значения 1.64 для alpha = 0.05. Значение p_value = 0.9, больше aplha = 0.05.\n",
    "\n",
    "Мы не можем отклонить нулевую гипотезу, поэтому делаем вывод, что статистически значимой разницы для конверсии в контрольной и экспериментальной группе нет."
   ]
  }
 ],
 "metadata": {
  "kernelspec": {
   "display_name": "Python 3",
   "language": "python",
   "name": "python3"
  },
  "language_info": {
   "codemirror_mode": {
    "name": "ipython",
    "version": 3
   },
   "file_extension": ".py",
   "mimetype": "text/x-python",
   "name": "python",
   "nbconvert_exporter": "python",
   "pygments_lexer": "ipython3",
   "version": "3.8.3"
  }
 },
 "nbformat": 4,
 "nbformat_minor": 4
}
